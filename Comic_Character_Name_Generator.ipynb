{
  "nbformat": 4,
  "nbformat_minor": 0,
  "metadata": {
    "accelerator": "GPU",
    "colab": {
      "name": "Comic Character Name Generator.ipynb",
      "provenance": [],
      "collapsed_sections": []
    },
    "kernelspec": {
      "display_name": "Python 3",
      "language": "python",
      "name": "python3"
    },
    "language_info": {
      "codemirror_mode": {
        "name": "ipython",
        "version": 3
      },
      "file_extension": ".py",
      "mimetype": "text/x-python",
      "name": "python",
      "nbconvert_exporter": "python",
      "pygments_lexer": "ipython3",
      "version": "3.8.3"
    }
  },
  "cells": [
    {
      "cell_type": "markdown",
      "metadata": {
        "id": "21XXWP7Fpt2L"
      },
      "source": [
        "# Comic Character Name Generator\n",
        "\n",
        "---\n",
        "\n",
        "[Superhero Names Dataset](https://github.com/am1tyadav/superhero)"
      ]
    },
    {
      "cell_type": "markdown",
      "metadata": {
        "id": "H6P0NU5Cpt2R"
      },
      "source": [
        "## Task 2\n",
        "\n",
        "1. Import the data\n",
        "2. Create a tokenizer\n",
        "3. Char to index and Index to char dictionaries"
      ]
    },
    {
      "cell_type": "code",
      "metadata": {
        "id": "srULhalZpt2M",
        "colab": {
          "base_uri": "https://localhost:8080/"
        },
        "outputId": "e0ea386e-25b3-4bad-af8d-1748032271d0"
      },
      "source": [
        "!git clone https://github.com/am1tyadav/superhero"
      ],
      "execution_count": null,
      "outputs": [
        {
          "output_type": "stream",
          "name": "stdout",
          "text": [
            "Cloning into 'superhero'...\n",
            "remote: Enumerating objects: 8, done.\u001b[K\n",
            "remote: Counting objects: 100% (8/8), done.\u001b[K\n",
            "remote: Compressing objects: 100% (7/7), done.\u001b[K\n",
            "remote: Total 8 (delta 0), reused 4 (delta 0), pack-reused 0\u001b[K\n",
            "Unpacking objects: 100% (8/8), done.\n"
          ]
        }
      ]
    },
    {
      "cell_type": "code",
      "metadata": {
        "id": "uq4CLmsLpt2P",
        "colab": {
          "base_uri": "https://localhost:8080/",
          "height": 35
        },
        "outputId": "415b4912-4ce7-402a-9687-1a22b70abea0"
      },
      "source": [
        "with open('superhero/superheroes.txt','r') as f:\n",
        "  data = f.read()\n",
        "\n",
        "data[:100]"
      ],
      "execution_count": null,
      "outputs": [
        {
          "output_type": "execute_result",
          "data": {
            "application/vnd.google.colaboratory.intrinsic+json": {
              "type": "string"
            },
            "text/plain": [
              "'jumpa\\t\\ndoctor fate\\t\\nstarlight\\t\\nisildur\\t\\nlasher\\t\\nvarvara\\t\\nthe target\\t\\naxel\\t\\nbattra\\t\\nchangeling\\t\\npyrrh'"
            ]
          },
          "metadata": {},
          "execution_count": 3
        }
      ]
    },
    {
      "cell_type": "code",
      "metadata": {
        "id": "JqhtLuAHpt2R",
        "colab": {
          "base_uri": "https://localhost:8080/"
        },
        "outputId": "5a8203b7-da97-4963-b18e-201672fe2edb"
      },
      "source": [
        "import tensorflow as tf\n",
        "print(tf.__version__)"
      ],
      "execution_count": null,
      "outputs": [
        {
          "output_type": "stream",
          "name": "stdout",
          "text": [
            "2.6.0\n"
          ]
        }
      ]
    },
    {
      "cell_type": "code",
      "metadata": {
        "id": "95Lo1Yqzpt2T"
      },
      "source": [
        "tokenizer = tf.keras.preprocessing.text.Tokenizer(\n",
        "    filters='!\"#$%&()*+,-./:;<=>?@[\\\\]^_`{|}~',\n",
        "    split='\\n',\n",
        ")"
      ],
      "execution_count": null,
      "outputs": []
    },
    {
      "cell_type": "code",
      "metadata": {
        "id": "qYfC4sj2pt2V"
      },
      "source": [
        "tokenizer.fit_on_texts(data)"
      ],
      "execution_count": null,
      "outputs": []
    },
    {
      "cell_type": "code",
      "metadata": {
        "id": "EO4-dPM6pt2X",
        "colab": {
          "base_uri": "https://localhost:8080/"
        },
        "outputId": "43c34510-b398-4ec6-dae1-830049999829"
      },
      "source": [
        "char_to_index = tokenizer.word_index\n",
        "index_to_char = dict((v,k) for k, v in char_to_index.items())\n",
        "\n",
        "print(index_to_char)"
      ],
      "execution_count": null,
      "outputs": [
        {
          "output_type": "stream",
          "name": "stdout",
          "text": [
            "{1: '\\t', 2: 'a', 3: 'e', 4: 'r', 5: 'o', 6: 'n', 7: 'i', 8: ' ', 9: 't', 10: 's', 11: 'l', 12: 'm', 13: 'h', 14: 'd', 15: 'c', 16: 'u', 17: 'g', 18: 'k', 19: 'b', 20: 'p', 21: 'y', 22: 'w', 23: 'f', 24: 'v', 25: 'j', 26: 'z', 27: 'x', 28: 'q'}\n"
          ]
        }
      ]
    },
    {
      "cell_type": "markdown",
      "metadata": {
        "id": "SMwtIw_Bpt2Z"
      },
      "source": [
        "## Task 3\n",
        "\n",
        "1. Converting between names and sequences"
      ]
    },
    {
      "cell_type": "code",
      "metadata": {
        "id": "N7iQLIXzpt2a",
        "colab": {
          "base_uri": "https://localhost:8080/"
        },
        "outputId": "8ff75973-2ee7-4c40-c7e6-198955290b6a"
      },
      "source": [
        "names = data.splitlines()\n",
        "names[:10]"
      ],
      "execution_count": null,
      "outputs": [
        {
          "output_type": "execute_result",
          "data": {
            "text/plain": [
              "['jumpa\\t',\n",
              " 'doctor fate\\t',\n",
              " 'starlight\\t',\n",
              " 'isildur\\t',\n",
              " 'lasher\\t',\n",
              " 'varvara\\t',\n",
              " 'the target\\t',\n",
              " 'axel\\t',\n",
              " 'battra\\t',\n",
              " 'changeling\\t']"
            ]
          },
          "metadata": {},
          "execution_count": 8
        }
      ]
    },
    {
      "cell_type": "code",
      "metadata": {
        "id": "n_-TTfqipt2c",
        "colab": {
          "base_uri": "https://localhost:8080/"
        },
        "outputId": "ac8bfec6-224b-4bdb-cc66-c75b176394bc"
      },
      "source": [
        "tokenizer.texts_to_sequences(names[0])"
      ],
      "execution_count": null,
      "outputs": [
        {
          "output_type": "execute_result",
          "data": {
            "text/plain": [
              "[[25], [16], [12], [20], [2], [1]]"
            ]
          },
          "metadata": {},
          "execution_count": 9
        }
      ]
    },
    {
      "cell_type": "code",
      "metadata": {
        "id": "P6IsKH1Upt2e"
      },
      "source": [
        "def name_to_seq(name):\n",
        "  return [tokenizer.texts_to_sequences(c)[0][0] for c in name]"
      ],
      "execution_count": null,
      "outputs": []
    },
    {
      "cell_type": "code",
      "metadata": {
        "id": "TuLUiMP3pt2g",
        "colab": {
          "base_uri": "https://localhost:8080/"
        },
        "outputId": "8d2a557e-893a-4308-9b87-e1e229bdcb16"
      },
      "source": [
        "name_to_seq(names[0])"
      ],
      "execution_count": null,
      "outputs": [
        {
          "output_type": "execute_result",
          "data": {
            "text/plain": [
              "[25, 16, 12, 20, 2, 1]"
            ]
          },
          "metadata": {},
          "execution_count": 11
        }
      ]
    },
    {
      "cell_type": "code",
      "metadata": {
        "id": "yFUYhimKpt2h"
      },
      "source": [
        "def seq_to_names(seq):\n",
        "  return ''.join([index_to_char[i] for i in seq if i != 0])"
      ],
      "execution_count": null,
      "outputs": []
    },
    {
      "cell_type": "code",
      "metadata": {
        "id": "ROhCqmhLpt2k",
        "colab": {
          "base_uri": "https://localhost:8080/",
          "height": 35
        },
        "outputId": "d667556a-97ab-409e-c4f1-717397bc6dce"
      },
      "source": [
        "seq_to_names(name_to_seq(names[0]))"
      ],
      "execution_count": null,
      "outputs": [
        {
          "output_type": "execute_result",
          "data": {
            "application/vnd.google.colaboratory.intrinsic+json": {
              "type": "string"
            },
            "text/plain": [
              "'jumpa\\t'"
            ]
          },
          "metadata": {},
          "execution_count": 13
        }
      ]
    },
    {
      "cell_type": "markdown",
      "metadata": {
        "id": "uCbAzsNjpt2m"
      },
      "source": [
        "## Task 4\n",
        "\n",
        "1. Creating sequences\n",
        "2. Padding all sequences"
      ]
    },
    {
      "cell_type": "code",
      "metadata": {
        "id": "zstNn-0dpt2m"
      },
      "source": [
        "sequences = []\n",
        "\n",
        "for name in names:\n",
        "  seq = name_to_seq(name)\n",
        "  if len(seq) >= 2:\n",
        "    sequences += [seq[:i] for i in range(2, len(seq)+1)]"
      ],
      "execution_count": null,
      "outputs": []
    },
    {
      "cell_type": "code",
      "metadata": {
        "id": "BjRTMysvpt2o",
        "colab": {
          "base_uri": "https://localhost:8080/"
        },
        "outputId": "5c640ed9-adeb-44b2-d7cf-77b53544d5d6"
      },
      "source": [
        "sequences[:10]"
      ],
      "execution_count": null,
      "outputs": [
        {
          "output_type": "execute_result",
          "data": {
            "text/plain": [
              "[[25, 16],\n",
              " [25, 16, 12],\n",
              " [25, 16, 12, 20],\n",
              " [25, 16, 12, 20, 2],\n",
              " [25, 16, 12, 20, 2, 1],\n",
              " [14, 5],\n",
              " [14, 5, 15],\n",
              " [14, 5, 15, 9],\n",
              " [14, 5, 15, 9, 5],\n",
              " [14, 5, 15, 9, 5, 4]]"
            ]
          },
          "metadata": {},
          "execution_count": 15
        }
      ]
    },
    {
      "cell_type": "code",
      "metadata": {
        "id": "SR68pu2tpt2q",
        "colab": {
          "base_uri": "https://localhost:8080/"
        },
        "outputId": "7e43ae52-c1ac-406a-9e7a-3ab14882f1e2"
      },
      "source": [
        "max_len = max([len(x) for x in sequences])\n",
        "print(max_len)"
      ],
      "execution_count": null,
      "outputs": [
        {
          "output_type": "stream",
          "name": "stdout",
          "text": [
            "33\n"
          ]
        }
      ]
    },
    {
      "cell_type": "code",
      "metadata": {
        "id": "h_1BtWO7pt2r",
        "colab": {
          "base_uri": "https://localhost:8080/"
        },
        "outputId": "b92e7114-6f6d-4151-d179-08444d74bba0"
      },
      "source": [
        "padded_sequences = tf.keras.preprocessing.sequence.pad_sequences(\n",
        "    sequences, padding = 'pre',\n",
        "    maxlen = max_len\n",
        ")\n",
        "\n",
        "print(padded_sequences[0])"
      ],
      "execution_count": null,
      "outputs": [
        {
          "output_type": "stream",
          "name": "stdout",
          "text": [
            "[ 0  0  0  0  0  0  0  0  0  0  0  0  0  0  0  0  0  0  0  0  0  0  0  0\n",
            "  0  0  0  0  0  0  0 25 16]\n"
          ]
        }
      ]
    },
    {
      "cell_type": "code",
      "metadata": {
        "id": "sPlrLRpSpt2t",
        "colab": {
          "base_uri": "https://localhost:8080/"
        },
        "outputId": "9a613de4-af3c-47ea-8cbc-d4aa9b345638"
      },
      "source": [
        "padded_sequences.shape"
      ],
      "execution_count": null,
      "outputs": [
        {
          "output_type": "execute_result",
          "data": {
            "text/plain": [
              "(88279, 33)"
            ]
          },
          "metadata": {},
          "execution_count": 18
        }
      ]
    },
    {
      "cell_type": "markdown",
      "metadata": {
        "id": "HdKkxrCLtKEl"
      },
      "source": [
        "## Task 5: Creating Training and Validation Sets\n",
        "\n",
        "1. Creating training and validation sets"
      ]
    },
    {
      "cell_type": "code",
      "metadata": {
        "id": "BE4BIeSnpt2v",
        "colab": {
          "base_uri": "https://localhost:8080/"
        },
        "outputId": "808942e4-b831-4816-fad7-550c972920ee"
      },
      "source": [
        "x, y = padded_sequences[:,:-1], padded_sequences[:,-1]\n",
        "print(x.shape,y.shape)"
      ],
      "execution_count": null,
      "outputs": [
        {
          "output_type": "stream",
          "name": "stdout",
          "text": [
            "(88279, 32) (88279,)\n"
          ]
        }
      ]
    },
    {
      "cell_type": "code",
      "metadata": {
        "id": "mhcDWp86tKEm",
        "colab": {
          "base_uri": "https://localhost:8080/"
        },
        "outputId": "268c3582-c17d-44af-e820-ec16f975871a"
      },
      "source": [
        "from sklearn.model_selection import train_test_split\n",
        "\n",
        "x_train, x_test, y_train, y_test = train_test_split(x,y)\n",
        "\n",
        "print(x_train.shape, y_train.shape)\n",
        "print(x_test.shape, y_test.shape)"
      ],
      "execution_count": null,
      "outputs": [
        {
          "output_type": "stream",
          "name": "stdout",
          "text": [
            "(66209, 32) (66209,)\n",
            "(22070, 32) (22070,)\n"
          ]
        }
      ]
    },
    {
      "cell_type": "code",
      "metadata": {
        "id": "cgqRZtqnpt2x",
        "colab": {
          "base_uri": "https://localhost:8080/"
        },
        "outputId": "5950cef0-8646-4ea2-bb05-cd2e036aa6c3"
      },
      "source": [
        "num_chars = len(char_to_index.keys()) + 1\n",
        "print(num_chars)"
      ],
      "execution_count": null,
      "outputs": [
        {
          "output_type": "stream",
          "name": "stdout",
          "text": [
            "29\n"
          ]
        }
      ]
    },
    {
      "cell_type": "markdown",
      "metadata": {
        "id": "07tTw4X9tKEm"
      },
      "source": [
        "## Task 6: Creating the Model"
      ]
    },
    {
      "cell_type": "code",
      "metadata": {
        "id": "PiOHCxW3tKEm",
        "colab": {
          "base_uri": "https://localhost:8080/"
        },
        "outputId": "ffd6a863-e43c-4d1e-c8ee-92816dded346"
      },
      "source": [
        "from tensorflow.keras.models import Sequential\n",
        "from tensorflow.keras.layers import Embedding, Conv1D, MaxPool1D, LSTM\n",
        "from tensorflow.keras.layers import Bidirectional, Dense\n",
        "\n",
        "model = Sequential([\n",
        "                    Embedding(num_chars, 8, input_length=max_len-1),\n",
        "                    Conv1D(64, 5, strides=1, activation='tanh', padding='causal'),\n",
        "                    MaxPool1D(2),\n",
        "                    LSTM(32),\n",
        "                    Dense(num_chars, activation='softmax')\n",
        "])\n",
        "\n",
        "model.compile(\n",
        "    loss='sparse_categorical_crossentropy',\n",
        "    optimizer='adam',\n",
        "    metrics=['accuracy']\n",
        ")\n",
        "\n",
        "model.summary()"
      ],
      "execution_count": null,
      "outputs": [
        {
          "output_type": "stream",
          "name": "stdout",
          "text": [
            "Model: \"sequential\"\n",
            "_________________________________________________________________\n",
            "Layer (type)                 Output Shape              Param #   \n",
            "=================================================================\n",
            "embedding (Embedding)        (None, 32, 8)             232       \n",
            "_________________________________________________________________\n",
            "conv1d (Conv1D)              (None, 32, 64)            2624      \n",
            "_________________________________________________________________\n",
            "max_pooling1d (MaxPooling1D) (None, 16, 64)            0         \n",
            "_________________________________________________________________\n",
            "lstm (LSTM)                  (None, 32)                12416     \n",
            "_________________________________________________________________\n",
            "dense (Dense)                (None, 29)                957       \n",
            "=================================================================\n",
            "Total params: 16,229\n",
            "Trainable params: 16,229\n",
            "Non-trainable params: 0\n",
            "_________________________________________________________________\n"
          ]
        }
      ]
    },
    {
      "cell_type": "markdown",
      "metadata": {
        "id": "U3BvZIErtKEm"
      },
      "source": [
        "## Task 7: Training the Model"
      ]
    },
    {
      "cell_type": "code",
      "metadata": {
        "id": "j0Ssl4qupt22",
        "colab": {
          "base_uri": "https://localhost:8080/"
        },
        "outputId": "8ed9379a-1789-4bf5-b317-7e680fb653cf"
      },
      "source": [
        "h = model.fit(\n",
        "    x_train, y_train,\n",
        "    validation_data=(x_test, y_test),\n",
        "    epochs=50, verbose=2,\n",
        "    callbacks=[\n",
        "               tf.keras.callbacks.EarlyStopping(monitor='val_accuracy',patience=3)\n",
        "    ]\n",
        ")\n"
      ],
      "execution_count": null,
      "outputs": [
        {
          "output_type": "stream",
          "name": "stdout",
          "text": [
            "Epoch 1/50\n",
            "2070/2070 - 50s - loss: 2.7318 - accuracy: 0.1929 - val_loss: 2.5847 - val_accuracy: 0.2201\n",
            "Epoch 2/50\n",
            "2070/2070 - 15s - loss: 2.5312 - accuracy: 0.2368 - val_loss: 2.4894 - val_accuracy: 0.2493\n",
            "Epoch 3/50\n",
            "2070/2070 - 15s - loss: 2.4593 - accuracy: 0.2587 - val_loss: 2.4361 - val_accuracy: 0.2658\n",
            "Epoch 4/50\n",
            "2070/2070 - 15s - loss: 2.4116 - accuracy: 0.2720 - val_loss: 2.4070 - val_accuracy: 0.2750\n",
            "Epoch 5/50\n",
            "2070/2070 - 15s - loss: 2.3755 - accuracy: 0.2839 - val_loss: 2.3737 - val_accuracy: 0.2865\n",
            "Epoch 6/50\n",
            "2070/2070 - 15s - loss: 2.3432 - accuracy: 0.2938 - val_loss: 2.3532 - val_accuracy: 0.2901\n",
            "Epoch 7/50\n",
            "2070/2070 - 15s - loss: 2.3159 - accuracy: 0.3019 - val_loss: 2.3260 - val_accuracy: 0.3030\n",
            "Epoch 8/50\n",
            "2070/2070 - 15s - loss: 2.2905 - accuracy: 0.3120 - val_loss: 2.3127 - val_accuracy: 0.3097\n",
            "Epoch 9/50\n",
            "2070/2070 - 15s - loss: 2.2688 - accuracy: 0.3186 - val_loss: 2.2974 - val_accuracy: 0.3108\n",
            "Epoch 10/50\n",
            "2070/2070 - 15s - loss: 2.2480 - accuracy: 0.3253 - val_loss: 2.2829 - val_accuracy: 0.3182\n",
            "Epoch 11/50\n",
            "2070/2070 - 15s - loss: 2.2297 - accuracy: 0.3311 - val_loss: 2.2725 - val_accuracy: 0.3173\n",
            "Epoch 12/50\n",
            "2070/2070 - 15s - loss: 2.2112 - accuracy: 0.3353 - val_loss: 2.2635 - val_accuracy: 0.3227\n",
            "Epoch 13/50\n",
            "2070/2070 - 15s - loss: 2.1936 - accuracy: 0.3409 - val_loss: 2.2589 - val_accuracy: 0.3257\n",
            "Epoch 14/50\n",
            "2070/2070 - 15s - loss: 2.1778 - accuracy: 0.3464 - val_loss: 2.2471 - val_accuracy: 0.3284\n",
            "Epoch 15/50\n",
            "2070/2070 - 15s - loss: 2.1626 - accuracy: 0.3517 - val_loss: 2.2416 - val_accuracy: 0.3266\n",
            "Epoch 16/50\n",
            "2070/2070 - 15s - loss: 2.1480 - accuracy: 0.3551 - val_loss: 2.2329 - val_accuracy: 0.3370\n",
            "Epoch 17/50\n",
            "2070/2070 - 15s - loss: 2.1353 - accuracy: 0.3586 - val_loss: 2.2322 - val_accuracy: 0.3387\n",
            "Epoch 18/50\n",
            "2070/2070 - 15s - loss: 2.1226 - accuracy: 0.3641 - val_loss: 2.2286 - val_accuracy: 0.3393\n",
            "Epoch 19/50\n",
            "2070/2070 - 15s - loss: 2.1114 - accuracy: 0.3683 - val_loss: 2.2218 - val_accuracy: 0.3391\n",
            "Epoch 20/50\n",
            "2070/2070 - 15s - loss: 2.1006 - accuracy: 0.3704 - val_loss: 2.2164 - val_accuracy: 0.3413\n",
            "Epoch 21/50\n",
            "2070/2070 - 15s - loss: 2.0904 - accuracy: 0.3721 - val_loss: 2.2173 - val_accuracy: 0.3419\n",
            "Epoch 22/50\n",
            "2070/2070 - 15s - loss: 2.0811 - accuracy: 0.3772 - val_loss: 2.2131 - val_accuracy: 0.3414\n",
            "Epoch 23/50\n",
            "2070/2070 - 15s - loss: 2.0711 - accuracy: 0.3792 - val_loss: 2.2144 - val_accuracy: 0.3399\n",
            "Epoch 24/50\n",
            "2070/2070 - 15s - loss: 2.0635 - accuracy: 0.3824 - val_loss: 2.2108 - val_accuracy: 0.3432\n",
            "Epoch 25/50\n",
            "2070/2070 - 15s - loss: 2.0553 - accuracy: 0.3841 - val_loss: 2.2023 - val_accuracy: 0.3457\n",
            "Epoch 26/50\n",
            "2070/2070 - 15s - loss: 2.0475 - accuracy: 0.3880 - val_loss: 2.2026 - val_accuracy: 0.3474\n",
            "Epoch 27/50\n",
            "2070/2070 - 15s - loss: 2.0401 - accuracy: 0.3895 - val_loss: 2.2021 - val_accuracy: 0.3462\n",
            "Epoch 28/50\n",
            "2070/2070 - 15s - loss: 2.0339 - accuracy: 0.3917 - val_loss: 2.2007 - val_accuracy: 0.3465\n",
            "Epoch 29/50\n",
            "2070/2070 - 15s - loss: 2.0265 - accuracy: 0.3939 - val_loss: 2.2007 - val_accuracy: 0.3485\n",
            "Epoch 30/50\n",
            "2070/2070 - 15s - loss: 2.0207 - accuracy: 0.3951 - val_loss: 2.2041 - val_accuracy: 0.3472\n",
            "Epoch 31/50\n",
            "2070/2070 - 15s - loss: 2.0151 - accuracy: 0.3971 - val_loss: 2.1991 - val_accuracy: 0.3532\n",
            "Epoch 32/50\n",
            "2070/2070 - 15s - loss: 2.0084 - accuracy: 0.4010 - val_loss: 2.2008 - val_accuracy: 0.3521\n",
            "Epoch 33/50\n",
            "2070/2070 - 15s - loss: 2.0034 - accuracy: 0.4004 - val_loss: 2.2020 - val_accuracy: 0.3494\n",
            "Epoch 34/50\n",
            "2070/2070 - 15s - loss: 1.9985 - accuracy: 0.4033 - val_loss: 2.1948 - val_accuracy: 0.3553\n",
            "Epoch 35/50\n",
            "2070/2070 - 15s - loss: 1.9927 - accuracy: 0.4050 - val_loss: 2.1927 - val_accuracy: 0.3546\n",
            "Epoch 36/50\n",
            "2070/2070 - 15s - loss: 1.9879 - accuracy: 0.4061 - val_loss: 2.1969 - val_accuracy: 0.3552\n",
            "Epoch 37/50\n",
            "2070/2070 - 15s - loss: 1.9829 - accuracy: 0.4094 - val_loss: 2.1983 - val_accuracy: 0.3559\n",
            "Epoch 38/50\n",
            "2070/2070 - 15s - loss: 1.9788 - accuracy: 0.4101 - val_loss: 2.2003 - val_accuracy: 0.3549\n",
            "Epoch 39/50\n",
            "2070/2070 - 15s - loss: 1.9747 - accuracy: 0.4106 - val_loss: 2.1952 - val_accuracy: 0.3592\n",
            "Epoch 40/50\n",
            "2070/2070 - 15s - loss: 1.9694 - accuracy: 0.4120 - val_loss: 2.1992 - val_accuracy: 0.3570\n",
            "Epoch 41/50\n",
            "2070/2070 - 15s - loss: 1.9663 - accuracy: 0.4149 - val_loss: 2.1969 - val_accuracy: 0.3573\n",
            "Epoch 42/50\n",
            "2070/2070 - 15s - loss: 1.9617 - accuracy: 0.4138 - val_loss: 2.1977 - val_accuracy: 0.3586\n"
          ]
        }
      ]
    },
    {
      "cell_type": "code",
      "metadata": {
        "colab": {
          "base_uri": "https://localhost:8080/",
          "height": 265
        },
        "id": "z_K_dUStNkfh",
        "outputId": "14f96f42-d626-4591-b4fa-4605e5e64d05"
      },
      "source": [
        "from matplotlib import pyplot as plt\n",
        "\n",
        "epochs_ran = len(h.history['loss'])\n",
        "\n",
        "plt.plot(range(0, epochs_ran), h.history['val_accuracy'], label='Validation')\n",
        "plt.plot(range(0, epochs_ran), h.history['accuracy'], label='Training')\n",
        "plt.legend()\n",
        "plt.show()"
      ],
      "execution_count": null,
      "outputs": [
        {
          "output_type": "display_data",
          "data": {
            "image/png": "[encoded data removed]",
            "text/plain": [
              "<Figure size 432x288 with 1 Axes>"
            ]
          },
          "metadata": {
            "needs_background": "light"
          }
        }
      ]
    },
    {
      "cell_type": "markdown",
      "metadata": {
        "id": "kWAZjigMtKEn"
      },
      "source": [
        "## Task 8: Generate Names!"
      ]
    },
    {
      "cell_type": "code",
      "metadata": {
        "id": "9f50aTRcpt24"
      },
      "source": [
        "def generate_names(seed):\n",
        "  for i in range(0, 40):\n",
        "    seq = name_to_seq(seed)\n",
        "    padded = tf.keras.preprocessing.sequence.pad_sequences([seq], padding='pre',maxlen=max_len-1,truncating='pre')\n",
        "    pred = model.predict(padded)[0]\n",
        "    pred_char = index_to_char[tf.argmax(pred).numpy()]\n",
        "    seed += pred_char\n",
        "\n",
        "    if pred_char == '\\t':\n",
        "      break\n",
        "  print(seed)"
      ],
      "execution_count": null,
      "outputs": []
    },
    {
      "cell_type": "code",
      "metadata": {
        "id": "faQ0FInlpt26",
        "colab": {
          "base_uri": "https://localhost:8080/"
        },
        "outputId": "40462a28-3d3d-46e5-b38c-79542e7e0ee2"
      },
      "source": [
        "generate_names('m')"
      ],
      "execution_count": null,
      "outputs": [
        {
          "output_type": "stream",
          "name": "stdout",
          "text": [
            "martinan\t\n"
          ]
        }
      ]
    }
  ]
}
